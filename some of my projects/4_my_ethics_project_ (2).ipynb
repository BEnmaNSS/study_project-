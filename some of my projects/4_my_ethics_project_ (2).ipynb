{
  "cells": [
    {
      "cell_type": "markdown",
      "source": [
        "#Introduction\n",
        "I play a critical part in analyzing data from historical events to draw lessons and inform how to address crises in the present and the future as a data scientist for a nonprofit that assists with disaster recovery. One of my specialties is estimating the likelihood that passengers and personnel would survive a crisis based on factors like age, gender, class, and cabin, all of which have a significant impact on the organization's preparedness and response.\n",
        "\n",
        "I can find patterns and connections between the characteristics of the passengers and crew and their survival percentages by looking at historical data from tragedies like the sinking of the Titanic. With the use of this data, I can develop prediction models that project survival rates for individuals in like circumstances."
      ],
      "metadata": {
        "id": "P03_y2cfpZUr"
      }
    },
    {
      "cell_type": "markdown",
      "source": [
        "# Import libraries\n",
        "\n"
      ],
      "metadata": {
        "id": "9TaNHQsrpNpq"
      }
    },
    {
      "cell_type": "code",
      "execution_count": null,
      "metadata": {
        "id": "y5mpSwi85-VD"
      },
      "outputs": [],
      "source": [
        "import pandas as pd\n",
        "import numpy as np\n",
        "import sklearn.model_selection\n",
        "import sklearn.decomposition\n",
        "import imblearn.over_sampling\n",
        "from sklearn.model_selection import train_test_split\n",
        "from sklearn.linear_model import LogisticRegression\n",
        "from sklearn.metrics import accuracy_score, precision_score, recall_score, f1_score\n",
        "from sklearn.metrics import confusion_matrix\n",
        "from sklearn.svm import SVC\n",
        "from sklearn import svm\n",
        "from sklearn.metrics import confusion_matrix\n",
        "import numpy as np\n",
        "from scipy.sparse import csr_matrix\n",
        "%pip install fairlearn\n",
        "from fairlearn.metrics import MetricFrame\n",
        "from fairlearn.reductions import ExponentiatedGradient, DemographicParity\n",
        "from sklearn.metrics import accuracy_score"
      ]
    },
    {
      "cell_type": "code",
      "execution_count": null,
      "metadata": {
        "colab": {
          "base_uri": "https://localhost:8080/",
          "height": 363
        },
        "collapsed": true,
        "id": "PHZ4wFkB7wFb",
        "outputId": "af6559e0-0d1e-4a90-a58e-0166ad50ae1a"
      },
      "outputs": [
        {
          "output_type": "execute_result",
          "data": {
            "text/plain": [
              "   PassengerId  Survived  Pclass  \\\n",
              "0            1         0       3   \n",
              "1            2         1       1   \n",
              "2            3         1       3   \n",
              "3            4         1       1   \n",
              "4            5         0       3   \n",
              "5            6         0       3   \n",
              "6            7         0       1   \n",
              "7            8         0       3   \n",
              "8            9         1       3   \n",
              "9           10         1       2   \n",
              "\n",
              "                                                Name     Sex   Age  SibSp  \\\n",
              "0                            Braund, Mr. Owen Harris    male  22.0      1   \n",
              "1  Cumings, Mrs. John Bradley (Florence Briggs Th...  female  38.0      1   \n",
              "2                             Heikkinen, Miss. Laina  female  26.0      0   \n",
              "3       Futrelle, Mrs. Jacques Heath (Lily May Peel)  female  35.0      1   \n",
              "4                           Allen, Mr. William Henry    male  35.0      0   \n",
              "5                                   Moran, Mr. James    male   NaN      0   \n",
              "6                            McCarthy, Mr. Timothy J    male  54.0      0   \n",
              "7                     Palsson, Master. Gosta Leonard    male   2.0      3   \n",
              "8  Johnson, Mrs. Oscar W (Elisabeth Vilhelmina Berg)  female  27.0      0   \n",
              "9                Nasser, Mrs. Nicholas (Adele Achem)  female  14.0      1   \n",
              "\n",
              "   Parch            Ticket     Fare Cabin Embarked  \n",
              "0      0         A/5 21171   7.2500   NaN        S  \n",
              "1      0          PC 17599  71.2833   C85        C  \n",
              "2      0  STON/O2. 3101282   7.9250   NaN        S  \n",
              "3      0            113803  53.1000  C123        S  \n",
              "4      0            373450   8.0500   NaN        S  \n",
              "5      0            330877   8.4583   NaN        Q  \n",
              "6      0             17463  51.8625   E46        S  \n",
              "7      1            349909  21.0750   NaN        S  \n",
              "8      2            347742  11.1333   NaN        S  \n",
              "9      0            237736  30.0708   NaN        C  "
            ],
            "text/html": [
              "\n",
              "  <div id=\"df-3dbaa8d9-0dea-48ca-bfc4-65401efa8731\" class=\"colab-df-container\">\n",
              "    <div>\n",
              "<style scoped>\n",
              "    .dataframe tbody tr th:only-of-type {\n",
              "        vertical-align: middle;\n",
              "    }\n",
              "\n",
              "    .dataframe tbody tr th {\n",
              "        vertical-align: top;\n",
              "    }\n",
              "\n",
              "    .dataframe thead th {\n",
              "        text-align: right;\n",
              "    }\n",
              "</style>\n",
              "<table border=\"1\" class=\"dataframe\">\n",
              "  <thead>\n",
              "    <tr style=\"text-align: right;\">\n",
              "      <th></th>\n",
              "      <th>PassengerId</th>\n",
              "      <th>Survived</th>\n",
              "      <th>Pclass</th>\n",
              "      <th>Name</th>\n",
              "      <th>Sex</th>\n",
              "      <th>Age</th>\n",
              "      <th>SibSp</th>\n",
              "      <th>Parch</th>\n",
              "      <th>Ticket</th>\n",
              "      <th>Fare</th>\n",
              "      <th>Cabin</th>\n",
              "      <th>Embarked</th>\n",
              "    </tr>\n",
              "  </thead>\n",
              "  <tbody>\n",
              "    <tr>\n",
              "      <th>0</th>\n",
              "      <td>1</td>\n",
              "      <td>0</td>\n",
              "      <td>3</td>\n",
              "      <td>Braund, Mr. Owen Harris</td>\n",
              "      <td>male</td>\n",
              "      <td>22.0</td>\n",
              "      <td>1</td>\n",
              "      <td>0</td>\n",
              "      <td>A/5 21171</td>\n",
              "      <td>7.2500</td>\n",
              "      <td>NaN</td>\n",
              "      <td>S</td>\n",
              "    </tr>\n",
              "    <tr>\n",
              "      <th>1</th>\n",
              "      <td>2</td>\n",
              "      <td>1</td>\n",
              "      <td>1</td>\n",
              "      <td>Cumings, Mrs. John Bradley (Florence Briggs Th...</td>\n",
              "      <td>female</td>\n",
              "      <td>38.0</td>\n",
              "      <td>1</td>\n",
              "      <td>0</td>\n",
              "      <td>PC 17599</td>\n",
              "      <td>71.2833</td>\n",
              "      <td>C85</td>\n",
              "      <td>C</td>\n",
              "    </tr>\n",
              "    <tr>\n",
              "      <th>2</th>\n",
              "      <td>3</td>\n",
              "      <td>1</td>\n",
              "      <td>3</td>\n",
              "      <td>Heikkinen, Miss. Laina</td>\n",
              "      <td>female</td>\n",
              "      <td>26.0</td>\n",
              "      <td>0</td>\n",
              "      <td>0</td>\n",
              "      <td>STON/O2. 3101282</td>\n",
              "      <td>7.9250</td>\n",
              "      <td>NaN</td>\n",
              "      <td>S</td>\n",
              "    </tr>\n",
              "    <tr>\n",
              "      <th>3</th>\n",
              "      <td>4</td>\n",
              "      <td>1</td>\n",
              "      <td>1</td>\n",
              "      <td>Futrelle, Mrs. Jacques Heath (Lily May Peel)</td>\n",
              "      <td>female</td>\n",
              "      <td>35.0</td>\n",
              "      <td>1</td>\n",
              "      <td>0</td>\n",
              "      <td>113803</td>\n",
              "      <td>53.1000</td>\n",
              "      <td>C123</td>\n",
              "      <td>S</td>\n",
              "    </tr>\n",
              "    <tr>\n",
              "      <th>4</th>\n",
              "      <td>5</td>\n",
              "      <td>0</td>\n",
              "      <td>3</td>\n",
              "      <td>Allen, Mr. William Henry</td>\n",
              "      <td>male</td>\n",
              "      <td>35.0</td>\n",
              "      <td>0</td>\n",
              "      <td>0</td>\n",
              "      <td>373450</td>\n",
              "      <td>8.0500</td>\n",
              "      <td>NaN</td>\n",
              "      <td>S</td>\n",
              "    </tr>\n",
              "    <tr>\n",
              "      <th>5</th>\n",
              "      <td>6</td>\n",
              "      <td>0</td>\n",
              "      <td>3</td>\n",
              "      <td>Moran, Mr. James</td>\n",
              "      <td>male</td>\n",
              "      <td>NaN</td>\n",
              "      <td>0</td>\n",
              "      <td>0</td>\n",
              "      <td>330877</td>\n",
              "      <td>8.4583</td>\n",
              "      <td>NaN</td>\n",
              "      <td>Q</td>\n",
              "    </tr>\n",
              "    <tr>\n",
              "      <th>6</th>\n",
              "      <td>7</td>\n",
              "      <td>0</td>\n",
              "      <td>1</td>\n",
              "      <td>McCarthy, Mr. Timothy J</td>\n",
              "      <td>male</td>\n",
              "      <td>54.0</td>\n",
              "      <td>0</td>\n",
              "      <td>0</td>\n",
              "      <td>17463</td>\n",
              "      <td>51.8625</td>\n",
              "      <td>E46</td>\n",
              "      <td>S</td>\n",
              "    </tr>\n",
              "    <tr>\n",
              "      <th>7</th>\n",
              "      <td>8</td>\n",
              "      <td>0</td>\n",
              "      <td>3</td>\n",
              "      <td>Palsson, Master. Gosta Leonard</td>\n",
              "      <td>male</td>\n",
              "      <td>2.0</td>\n",
              "      <td>3</td>\n",
              "      <td>1</td>\n",
              "      <td>349909</td>\n",
              "      <td>21.0750</td>\n",
              "      <td>NaN</td>\n",
              "      <td>S</td>\n",
              "    </tr>\n",
              "    <tr>\n",
              "      <th>8</th>\n",
              "      <td>9</td>\n",
              "      <td>1</td>\n",
              "      <td>3</td>\n",
              "      <td>Johnson, Mrs. Oscar W (Elisabeth Vilhelmina Berg)</td>\n",
              "      <td>female</td>\n",
              "      <td>27.0</td>\n",
              "      <td>0</td>\n",
              "      <td>2</td>\n",
              "      <td>347742</td>\n",
              "      <td>11.1333</td>\n",
              "      <td>NaN</td>\n",
              "      <td>S</td>\n",
              "    </tr>\n",
              "    <tr>\n",
              "      <th>9</th>\n",
              "      <td>10</td>\n",
              "      <td>1</td>\n",
              "      <td>2</td>\n",
              "      <td>Nasser, Mrs. Nicholas (Adele Achem)</td>\n",
              "      <td>female</td>\n",
              "      <td>14.0</td>\n",
              "      <td>1</td>\n",
              "      <td>0</td>\n",
              "      <td>237736</td>\n",
              "      <td>30.0708</td>\n",
              "      <td>NaN</td>\n",
              "      <td>C</td>\n",
              "    </tr>\n",
              "  </tbody>\n",
              "</table>\n",
              "</div>\n",
              "    <div class=\"colab-df-buttons\">\n",
              "\n",
              "  <div class=\"colab-df-container\">\n",
              "    <button class=\"colab-df-convert\" onclick=\"convertToInteractive('df-3dbaa8d9-0dea-48ca-bfc4-65401efa8731')\"\n",
              "            title=\"Convert this dataframe to an interactive table.\"\n",
              "            style=\"display:none;\">\n",
              "\n",
              "  <svg xmlns=\"http://www.w3.org/2000/svg\" height=\"24px\" viewBox=\"0 -960 960 960\">\n",
              "    <path d=\"M120-120v-720h720v720H120Zm60-500h600v-160H180v160Zm220 220h160v-160H400v160Zm0 220h160v-160H400v160ZM180-400h160v-160H180v160Zm440 0h160v-160H620v160ZM180-180h160v-160H180v160Zm440 0h160v-160H620v160Z\"/>\n",
              "  </svg>\n",
              "    </button>\n",
              "\n",
              "  <style>\n",
              "    .colab-df-container {\n",
              "      display:flex;\n",
              "      gap: 12px;\n",
              "    }\n",
              "\n",
              "    .colab-df-convert {\n",
              "      background-color: #E8F0FE;\n",
              "      border: none;\n",
              "      border-radius: 50%;\n",
              "      cursor: pointer;\n",
              "      display: none;\n",
              "      fill: #1967D2;\n",
              "      height: 32px;\n",
              "      padding: 0 0 0 0;\n",
              "      width: 32px;\n",
              "    }\n",
              "\n",
              "    .colab-df-convert:hover {\n",
              "      background-color: #E2EBFA;\n",
              "      box-shadow: 0px 1px 2px rgba(60, 64, 67, 0.3), 0px 1px 3px 1px rgba(60, 64, 67, 0.15);\n",
              "      fill: #174EA6;\n",
              "    }\n",
              "\n",
              "    .colab-df-buttons div {\n",
              "      margin-bottom: 4px;\n",
              "    }\n",
              "\n",
              "    [theme=dark] .colab-df-convert {\n",
              "      background-color: #3B4455;\n",
              "      fill: #D2E3FC;\n",
              "    }\n",
              "\n",
              "    [theme=dark] .colab-df-convert:hover {\n",
              "      background-color: #434B5C;\n",
              "      box-shadow: 0px 1px 3px 1px rgba(0, 0, 0, 0.15);\n",
              "      filter: drop-shadow(0px 1px 2px rgba(0, 0, 0, 0.3));\n",
              "      fill: #FFFFFF;\n",
              "    }\n",
              "  </style>\n",
              "\n",
              "    <script>\n",
              "      const buttonEl =\n",
              "        document.querySelector('#df-3dbaa8d9-0dea-48ca-bfc4-65401efa8731 button.colab-df-convert');\n",
              "      buttonEl.style.display =\n",
              "        google.colab.kernel.accessAllowed ? 'block' : 'none';\n",
              "\n",
              "      async function convertToInteractive(key) {\n",
              "        const element = document.querySelector('#df-3dbaa8d9-0dea-48ca-bfc4-65401efa8731');\n",
              "        const dataTable =\n",
              "          await google.colab.kernel.invokeFunction('convertToInteractive',\n",
              "                                                    [key], {});\n",
              "        if (!dataTable) return;\n",
              "\n",
              "        const docLinkHtml = 'Like what you see? Visit the ' +\n",
              "          '<a target=\"_blank\" href=https://colab.research.google.com/notebooks/data_table.ipynb>data table notebook</a>'\n",
              "          + ' to learn more about interactive tables.';\n",
              "        element.innerHTML = '';\n",
              "        dataTable['output_type'] = 'display_data';\n",
              "        await google.colab.output.renderOutput(dataTable, element);\n",
              "        const docLink = document.createElement('div');\n",
              "        docLink.innerHTML = docLinkHtml;\n",
              "        element.appendChild(docLink);\n",
              "      }\n",
              "    </script>\n",
              "  </div>\n",
              "\n",
              "\n",
              "<div id=\"df-5ad702b5-1dc1-4b22-82bb-40245b03b922\">\n",
              "  <button class=\"colab-df-quickchart\" onclick=\"quickchart('df-5ad702b5-1dc1-4b22-82bb-40245b03b922')\"\n",
              "            title=\"Suggest charts\"\n",
              "            style=\"display:none;\">\n",
              "\n",
              "<svg xmlns=\"http://www.w3.org/2000/svg\" height=\"24px\"viewBox=\"0 0 24 24\"\n",
              "     width=\"24px\">\n",
              "    <g>\n",
              "        <path d=\"M19 3H5c-1.1 0-2 .9-2 2v14c0 1.1.9 2 2 2h14c1.1 0 2-.9 2-2V5c0-1.1-.9-2-2-2zM9 17H7v-7h2v7zm4 0h-2V7h2v10zm4 0h-2v-4h2v4z\"/>\n",
              "    </g>\n",
              "</svg>\n",
              "  </button>\n",
              "\n",
              "<style>\n",
              "  .colab-df-quickchart {\n",
              "      --bg-color: #E8F0FE;\n",
              "      --fill-color: #1967D2;\n",
              "      --hover-bg-color: #E2EBFA;\n",
              "      --hover-fill-color: #174EA6;\n",
              "      --disabled-fill-color: #AAA;\n",
              "      --disabled-bg-color: #DDD;\n",
              "  }\n",
              "\n",
              "  [theme=dark] .colab-df-quickchart {\n",
              "      --bg-color: #3B4455;\n",
              "      --fill-color: #D2E3FC;\n",
              "      --hover-bg-color: #434B5C;\n",
              "      --hover-fill-color: #FFFFFF;\n",
              "      --disabled-bg-color: #3B4455;\n",
              "      --disabled-fill-color: #666;\n",
              "  }\n",
              "\n",
              "  .colab-df-quickchart {\n",
              "    background-color: var(--bg-color);\n",
              "    border: none;\n",
              "    border-radius: 50%;\n",
              "    cursor: pointer;\n",
              "    display: none;\n",
              "    fill: var(--fill-color);\n",
              "    height: 32px;\n",
              "    padding: 0;\n",
              "    width: 32px;\n",
              "  }\n",
              "\n",
              "  .colab-df-quickchart:hover {\n",
              "    background-color: var(--hover-bg-color);\n",
              "    box-shadow: 0 1px 2px rgba(60, 64, 67, 0.3), 0 1px 3px 1px rgba(60, 64, 67, 0.15);\n",
              "    fill: var(--button-hover-fill-color);\n",
              "  }\n",
              "\n",
              "  .colab-df-quickchart-complete:disabled,\n",
              "  .colab-df-quickchart-complete:disabled:hover {\n",
              "    background-color: var(--disabled-bg-color);\n",
              "    fill: var(--disabled-fill-color);\n",
              "    box-shadow: none;\n",
              "  }\n",
              "\n",
              "  .colab-df-spinner {\n",
              "    border: 2px solid var(--fill-color);\n",
              "    border-color: transparent;\n",
              "    border-bottom-color: var(--fill-color);\n",
              "    animation:\n",
              "      spin 1s steps(1) infinite;\n",
              "  }\n",
              "\n",
              "  @keyframes spin {\n",
              "    0% {\n",
              "      border-color: transparent;\n",
              "      border-bottom-color: var(--fill-color);\n",
              "      border-left-color: var(--fill-color);\n",
              "    }\n",
              "    20% {\n",
              "      border-color: transparent;\n",
              "      border-left-color: var(--fill-color);\n",
              "      border-top-color: var(--fill-color);\n",
              "    }\n",
              "    30% {\n",
              "      border-color: transparent;\n",
              "      border-left-color: var(--fill-color);\n",
              "      border-top-color: var(--fill-color);\n",
              "      border-right-color: var(--fill-color);\n",
              "    }\n",
              "    40% {\n",
              "      border-color: transparent;\n",
              "      border-right-color: var(--fill-color);\n",
              "      border-top-color: var(--fill-color);\n",
              "    }\n",
              "    60% {\n",
              "      border-color: transparent;\n",
              "      border-right-color: var(--fill-color);\n",
              "    }\n",
              "    80% {\n",
              "      border-color: transparent;\n",
              "      border-right-color: var(--fill-color);\n",
              "      border-bottom-color: var(--fill-color);\n",
              "    }\n",
              "    90% {\n",
              "      border-color: transparent;\n",
              "      border-bottom-color: var(--fill-color);\n",
              "    }\n",
              "  }\n",
              "</style>\n",
              "\n",
              "  <script>\n",
              "    async function quickchart(key) {\n",
              "      const quickchartButtonEl =\n",
              "        document.querySelector('#' + key + ' button');\n",
              "      quickchartButtonEl.disabled = true;  // To prevent multiple clicks.\n",
              "      quickchartButtonEl.classList.add('colab-df-spinner');\n",
              "      try {\n",
              "        const charts = await google.colab.kernel.invokeFunction(\n",
              "            'suggestCharts', [key], {});\n",
              "      } catch (error) {\n",
              "        console.error('Error during call to suggestCharts:', error);\n",
              "      }\n",
              "      quickchartButtonEl.classList.remove('colab-df-spinner');\n",
              "      quickchartButtonEl.classList.add('colab-df-quickchart-complete');\n",
              "    }\n",
              "    (() => {\n",
              "      let quickchartButtonEl =\n",
              "        document.querySelector('#df-5ad702b5-1dc1-4b22-82bb-40245b03b922 button');\n",
              "      quickchartButtonEl.style.display =\n",
              "        google.colab.kernel.accessAllowed ? 'block' : 'none';\n",
              "    })();\n",
              "  </script>\n",
              "</div>\n",
              "    </div>\n",
              "  </div>\n"
            ]
          },
          "metadata": {},
          "execution_count": 43
        }
      ],
      "source": [
        "data = pd.read_csv(\"/content/Titanic-Dataset.csv\")\n",
        "data.head(10)"
      ]
    },
    {
      "cell_type": "markdown",
      "source": [
        "#data exploration"
      ],
      "metadata": {
        "id": "4DIa_1eA05uB"
      }
    },
    {
      "cell_type": "code",
      "execution_count": null,
      "metadata": {
        "id": "A-wNfaFD8sHf"
      },
      "outputs": [],
      "source": [
        "#DESCRIBING OUR DATA\n",
        "data.describe()"
      ]
    },
    {
      "cell_type": "code",
      "execution_count": null,
      "metadata": {
        "colab": {
          "base_uri": "https://localhost:8080/"
        },
        "id": "7KxRyUkH9OaD",
        "outputId": "bf626a1d-1277-4d68-f3a9-254e28551728"
      },
      "outputs": [
        {
          "output_type": "execute_result",
          "data": {
            "text/plain": [
              "(891, 12)"
            ]
          },
          "metadata": {},
          "execution_count": 5
        }
      ],
      "source": [
        "#KNOWING THE SHAPE of our data we got 12 columns and 891 rows\n",
        "data.shape"
      ]
    },
    {
      "cell_type": "code",
      "execution_count": null,
      "metadata": {
        "collapsed": true,
        "id": "vezFsl4F9j7-"
      },
      "outputs": [],
      "source": [
        "data.info()"
      ]
    },
    {
      "cell_type": "markdown",
      "source": [
        "we can know more about\n",
        "The type of data in  each column.\n",
        "The  non-null values.\n"
      ],
      "metadata": {
        "id": "vWZxR8-d2yEz"
      }
    },
    {
      "cell_type": "markdown",
      "metadata": {
        "id": "7FeUynZ_Ct1J"
      },
      "source": [
        "#Showing discrimination"
      ]
    },
    {
      "cell_type": "markdown",
      "metadata": {
        "id": "GwkGD64hRTaD"
      },
      "source": [
        "here we can see that we do have passenger who survived and the other who did not survived.\n",
        "0: unsurvived passenger\n",
        "1: survived passenger\n",
        "and based on that we creat the foorloop to count how many females and males who got survived.\n",
        "We can motice that the male survived male is less than survived woman by"
      ]
    },
    {
      "cell_type": "code",
      "execution_count": null,
      "metadata": {
        "colab": {
          "base_uri": "https://localhost:8080/"
        },
        "collapsed": true,
        "id": "lvw4LM6KCqEq",
        "outputId": "da7d5765-f73c-401f-94b6-d737a453e6c7"
      },
      "outputs": [
        {
          "output_type": "stream",
          "name": "stdout",
          "text": [
            "male\n",
            "Count:  577\n",
            "Servived  :  18.89 %\n",
            "\n",
            "====\n",
            "\n",
            "female\n",
            "Count:  314\n",
            "Servived  :  74.20 %\n",
            "\n",
            "====\n",
            "\n"
          ]
        }
      ],
      "source": [
        "for any_gen in data['Sex'].unique():\n",
        "    print(any_gen)\n",
        "\n",
        "    x_df = data[ data['Sex']== any_gen ]\n",
        "    survived = x_df[ x_df['Survived']==1 ]\n",
        "\n",
        "    surv_perc = ( survived.shape[0] / x_df.shape[0] ) * 100\n",
        "\n",
        "    print(\"Count: \", x_df.shape[0])\n",
        "    print(\"Servived  : \", \"%.2f\" % surv_perc, '%')\n",
        "\n",
        "    print(\"\\n====\\n\")"
      ]
    },
    {
      "cell_type": "markdown",
      "source": [
        "replace the values in the Sex column ,which are male and female with 1 and 0 for bor both male and female.\n",
        "and replace it in the origin datafram."
      ],
      "metadata": {
        "id": "ytBTLr3GCX5F"
      }
    },
    {
      "cell_type": "code",
      "execution_count": null,
      "metadata": {
        "colab": {
          "base_uri": "https://localhost:8080/",
          "height": 238
        },
        "collapsed": true,
        "id": "1uym-LmCiCEr",
        "outputId": "211ce8f3-fb05-4e8d-ba5c-1b5e4757502c"
      },
      "outputs": [
        {
          "output_type": "execute_result",
          "data": {
            "text/plain": [
              "             Survived  Pclass  \\\n",
              "PassengerId                     \n",
              "1                   0       3   \n",
              "2                   1       1   \n",
              "3                   1       3   \n",
              "4                   1       1   \n",
              "5                   0       3   \n",
              "\n",
              "                                                          Name  Sex   Age  \\\n",
              "PassengerId                                                                 \n",
              "1                                      Braund, Mr. Owen Harris    1  22.0   \n",
              "2            Cumings, Mrs. John Bradley (Florence Briggs Th...    0  38.0   \n",
              "3                                       Heikkinen, Miss. Laina    0  26.0   \n",
              "4                 Futrelle, Mrs. Jacques Heath (Lily May Peel)    0  35.0   \n",
              "5                                     Allen, Mr. William Henry    1  35.0   \n",
              "\n",
              "             SibSp  Parch            Ticket     Fare Cabin Embarked  \n",
              "PassengerId                                                          \n",
              "1                1      0         A/5 21171   7.2500   NaN        S  \n",
              "2                1      0          PC 17599  71.2833   C85        C  \n",
              "3                0      0  STON/O2. 3101282   7.9250   NaN        S  \n",
              "4                1      0            113803  53.1000  C123        S  \n",
              "5                0      0            373450   8.0500   NaN        S  "
            ],
            "text/html": [
              "\n",
              "  <div id=\"df-510347e0-060d-4fc4-8c21-80c90aa0ef35\" class=\"colab-df-container\">\n",
              "    <div>\n",
              "<style scoped>\n",
              "    .dataframe tbody tr th:only-of-type {\n",
              "        vertical-align: middle;\n",
              "    }\n",
              "\n",
              "    .dataframe tbody tr th {\n",
              "        vertical-align: top;\n",
              "    }\n",
              "\n",
              "    .dataframe thead th {\n",
              "        text-align: right;\n",
              "    }\n",
              "</style>\n",
              "<table border=\"1\" class=\"dataframe\">\n",
              "  <thead>\n",
              "    <tr style=\"text-align: right;\">\n",
              "      <th></th>\n",
              "      <th>Survived</th>\n",
              "      <th>Pclass</th>\n",
              "      <th>Name</th>\n",
              "      <th>Sex</th>\n",
              "      <th>Age</th>\n",
              "      <th>SibSp</th>\n",
              "      <th>Parch</th>\n",
              "      <th>Ticket</th>\n",
              "      <th>Fare</th>\n",
              "      <th>Cabin</th>\n",
              "      <th>Embarked</th>\n",
              "    </tr>\n",
              "    <tr>\n",
              "      <th>PassengerId</th>\n",
              "      <th></th>\n",
              "      <th></th>\n",
              "      <th></th>\n",
              "      <th></th>\n",
              "      <th></th>\n",
              "      <th></th>\n",
              "      <th></th>\n",
              "      <th></th>\n",
              "      <th></th>\n",
              "      <th></th>\n",
              "      <th></th>\n",
              "    </tr>\n",
              "  </thead>\n",
              "  <tbody>\n",
              "    <tr>\n",
              "      <th>1</th>\n",
              "      <td>0</td>\n",
              "      <td>3</td>\n",
              "      <td>Braund, Mr. Owen Harris</td>\n",
              "      <td>1</td>\n",
              "      <td>22.0</td>\n",
              "      <td>1</td>\n",
              "      <td>0</td>\n",
              "      <td>A/5 21171</td>\n",
              "      <td>7.2500</td>\n",
              "      <td>NaN</td>\n",
              "      <td>S</td>\n",
              "    </tr>\n",
              "    <tr>\n",
              "      <th>2</th>\n",
              "      <td>1</td>\n",
              "      <td>1</td>\n",
              "      <td>Cumings, Mrs. John Bradley (Florence Briggs Th...</td>\n",
              "      <td>0</td>\n",
              "      <td>38.0</td>\n",
              "      <td>1</td>\n",
              "      <td>0</td>\n",
              "      <td>PC 17599</td>\n",
              "      <td>71.2833</td>\n",
              "      <td>C85</td>\n",
              "      <td>C</td>\n",
              "    </tr>\n",
              "    <tr>\n",
              "      <th>3</th>\n",
              "      <td>1</td>\n",
              "      <td>3</td>\n",
              "      <td>Heikkinen, Miss. Laina</td>\n",
              "      <td>0</td>\n",
              "      <td>26.0</td>\n",
              "      <td>0</td>\n",
              "      <td>0</td>\n",
              "      <td>STON/O2. 3101282</td>\n",
              "      <td>7.9250</td>\n",
              "      <td>NaN</td>\n",
              "      <td>S</td>\n",
              "    </tr>\n",
              "    <tr>\n",
              "      <th>4</th>\n",
              "      <td>1</td>\n",
              "      <td>1</td>\n",
              "      <td>Futrelle, Mrs. Jacques Heath (Lily May Peel)</td>\n",
              "      <td>0</td>\n",
              "      <td>35.0</td>\n",
              "      <td>1</td>\n",
              "      <td>0</td>\n",
              "      <td>113803</td>\n",
              "      <td>53.1000</td>\n",
              "      <td>C123</td>\n",
              "      <td>S</td>\n",
              "    </tr>\n",
              "    <tr>\n",
              "      <th>5</th>\n",
              "      <td>0</td>\n",
              "      <td>3</td>\n",
              "      <td>Allen, Mr. William Henry</td>\n",
              "      <td>1</td>\n",
              "      <td>35.0</td>\n",
              "      <td>0</td>\n",
              "      <td>0</td>\n",
              "      <td>373450</td>\n",
              "      <td>8.0500</td>\n",
              "      <td>NaN</td>\n",
              "      <td>S</td>\n",
              "    </tr>\n",
              "  </tbody>\n",
              "</table>\n",
              "</div>\n",
              "    <div class=\"colab-df-buttons\">\n",
              "\n",
              "  <div class=\"colab-df-container\">\n",
              "    <button class=\"colab-df-convert\" onclick=\"convertToInteractive('df-510347e0-060d-4fc4-8c21-80c90aa0ef35')\"\n",
              "            title=\"Convert this dataframe to an interactive table.\"\n",
              "            style=\"display:none;\">\n",
              "\n",
              "  <svg xmlns=\"http://www.w3.org/2000/svg\" height=\"24px\" viewBox=\"0 -960 960 960\">\n",
              "    <path d=\"M120-120v-720h720v720H120Zm60-500h600v-160H180v160Zm220 220h160v-160H400v160Zm0 220h160v-160H400v160ZM180-400h160v-160H180v160Zm440 0h160v-160H620v160ZM180-180h160v-160H180v160Zm440 0h160v-160H620v160Z\"/>\n",
              "  </svg>\n",
              "    </button>\n",
              "\n",
              "  <style>\n",
              "    .colab-df-container {\n",
              "      display:flex;\n",
              "      gap: 12px;\n",
              "    }\n",
              "\n",
              "    .colab-df-convert {\n",
              "      background-color: #E8F0FE;\n",
              "      border: none;\n",
              "      border-radius: 50%;\n",
              "      cursor: pointer;\n",
              "      display: none;\n",
              "      fill: #1967D2;\n",
              "      height: 32px;\n",
              "      padding: 0 0 0 0;\n",
              "      width: 32px;\n",
              "    }\n",
              "\n",
              "    .colab-df-convert:hover {\n",
              "      background-color: #E2EBFA;\n",
              "      box-shadow: 0px 1px 2px rgba(60, 64, 67, 0.3), 0px 1px 3px 1px rgba(60, 64, 67, 0.15);\n",
              "      fill: #174EA6;\n",
              "    }\n",
              "\n",
              "    .colab-df-buttons div {\n",
              "      margin-bottom: 4px;\n",
              "    }\n",
              "\n",
              "    [theme=dark] .colab-df-convert {\n",
              "      background-color: #3B4455;\n",
              "      fill: #D2E3FC;\n",
              "    }\n",
              "\n",
              "    [theme=dark] .colab-df-convert:hover {\n",
              "      background-color: #434B5C;\n",
              "      box-shadow: 0px 1px 3px 1px rgba(0, 0, 0, 0.15);\n",
              "      filter: drop-shadow(0px 1px 2px rgba(0, 0, 0, 0.3));\n",
              "      fill: #FFFFFF;\n",
              "    }\n",
              "  </style>\n",
              "\n",
              "    <script>\n",
              "      const buttonEl =\n",
              "        document.querySelector('#df-510347e0-060d-4fc4-8c21-80c90aa0ef35 button.colab-df-convert');\n",
              "      buttonEl.style.display =\n",
              "        google.colab.kernel.accessAllowed ? 'block' : 'none';\n",
              "\n",
              "      async function convertToInteractive(key) {\n",
              "        const element = document.querySelector('#df-510347e0-060d-4fc4-8c21-80c90aa0ef35');\n",
              "        const dataTable =\n",
              "          await google.colab.kernel.invokeFunction('convertToInteractive',\n",
              "                                                    [key], {});\n",
              "        if (!dataTable) return;\n",
              "\n",
              "        const docLinkHtml = 'Like what you see? Visit the ' +\n",
              "          '<a target=\"_blank\" href=https://colab.research.google.com/notebooks/data_table.ipynb>data table notebook</a>'\n",
              "          + ' to learn more about interactive tables.';\n",
              "        element.innerHTML = '';\n",
              "        dataTable['output_type'] = 'display_data';\n",
              "        await google.colab.output.renderOutput(dataTable, element);\n",
              "        const docLink = document.createElement('div');\n",
              "        docLink.innerHTML = docLinkHtml;\n",
              "        element.appendChild(docLink);\n",
              "      }\n",
              "    </script>\n",
              "  </div>\n",
              "\n",
              "\n",
              "<div id=\"df-93097c34-300c-4a8b-a182-ce3ebcc06354\">\n",
              "  <button class=\"colab-df-quickchart\" onclick=\"quickchart('df-93097c34-300c-4a8b-a182-ce3ebcc06354')\"\n",
              "            title=\"Suggest charts\"\n",
              "            style=\"display:none;\">\n",
              "\n",
              "<svg xmlns=\"http://www.w3.org/2000/svg\" height=\"24px\"viewBox=\"0 0 24 24\"\n",
              "     width=\"24px\">\n",
              "    <g>\n",
              "        <path d=\"M19 3H5c-1.1 0-2 .9-2 2v14c0 1.1.9 2 2 2h14c1.1 0 2-.9 2-2V5c0-1.1-.9-2-2-2zM9 17H7v-7h2v7zm4 0h-2V7h2v10zm4 0h-2v-4h2v4z\"/>\n",
              "    </g>\n",
              "</svg>\n",
              "  </button>\n",
              "\n",
              "<style>\n",
              "  .colab-df-quickchart {\n",
              "      --bg-color: #E8F0FE;\n",
              "      --fill-color: #1967D2;\n",
              "      --hover-bg-color: #E2EBFA;\n",
              "      --hover-fill-color: #174EA6;\n",
              "      --disabled-fill-color: #AAA;\n",
              "      --disabled-bg-color: #DDD;\n",
              "  }\n",
              "\n",
              "  [theme=dark] .colab-df-quickchart {\n",
              "      --bg-color: #3B4455;\n",
              "      --fill-color: #D2E3FC;\n",
              "      --hover-bg-color: #434B5C;\n",
              "      --hover-fill-color: #FFFFFF;\n",
              "      --disabled-bg-color: #3B4455;\n",
              "      --disabled-fill-color: #666;\n",
              "  }\n",
              "\n",
              "  .colab-df-quickchart {\n",
              "    background-color: var(--bg-color);\n",
              "    border: none;\n",
              "    border-radius: 50%;\n",
              "    cursor: pointer;\n",
              "    display: none;\n",
              "    fill: var(--fill-color);\n",
              "    height: 32px;\n",
              "    padding: 0;\n",
              "    width: 32px;\n",
              "  }\n",
              "\n",
              "  .colab-df-quickchart:hover {\n",
              "    background-color: var(--hover-bg-color);\n",
              "    box-shadow: 0 1px 2px rgba(60, 64, 67, 0.3), 0 1px 3px 1px rgba(60, 64, 67, 0.15);\n",
              "    fill: var(--button-hover-fill-color);\n",
              "  }\n",
              "\n",
              "  .colab-df-quickchart-complete:disabled,\n",
              "  .colab-df-quickchart-complete:disabled:hover {\n",
              "    background-color: var(--disabled-bg-color);\n",
              "    fill: var(--disabled-fill-color);\n",
              "    box-shadow: none;\n",
              "  }\n",
              "\n",
              "  .colab-df-spinner {\n",
              "    border: 2px solid var(--fill-color);\n",
              "    border-color: transparent;\n",
              "    border-bottom-color: var(--fill-color);\n",
              "    animation:\n",
              "      spin 1s steps(1) infinite;\n",
              "  }\n",
              "\n",
              "  @keyframes spin {\n",
              "    0% {\n",
              "      border-color: transparent;\n",
              "      border-bottom-color: var(--fill-color);\n",
              "      border-left-color: var(--fill-color);\n",
              "    }\n",
              "    20% {\n",
              "      border-color: transparent;\n",
              "      border-left-color: var(--fill-color);\n",
              "      border-top-color: var(--fill-color);\n",
              "    }\n",
              "    30% {\n",
              "      border-color: transparent;\n",
              "      border-left-color: var(--fill-color);\n",
              "      border-top-color: var(--fill-color);\n",
              "      border-right-color: var(--fill-color);\n",
              "    }\n",
              "    40% {\n",
              "      border-color: transparent;\n",
              "      border-right-color: var(--fill-color);\n",
              "      border-top-color: var(--fill-color);\n",
              "    }\n",
              "    60% {\n",
              "      border-color: transparent;\n",
              "      border-right-color: var(--fill-color);\n",
              "    }\n",
              "    80% {\n",
              "      border-color: transparent;\n",
              "      border-right-color: var(--fill-color);\n",
              "      border-bottom-color: var(--fill-color);\n",
              "    }\n",
              "    90% {\n",
              "      border-color: transparent;\n",
              "      border-bottom-color: var(--fill-color);\n",
              "    }\n",
              "  }\n",
              "</style>\n",
              "\n",
              "  <script>\n",
              "    async function quickchart(key) {\n",
              "      const quickchartButtonEl =\n",
              "        document.querySelector('#' + key + ' button');\n",
              "      quickchartButtonEl.disabled = true;  // To prevent multiple clicks.\n",
              "      quickchartButtonEl.classList.add('colab-df-spinner');\n",
              "      try {\n",
              "        const charts = await google.colab.kernel.invokeFunction(\n",
              "            'suggestCharts', [key], {});\n",
              "      } catch (error) {\n",
              "        console.error('Error during call to suggestCharts:', error);\n",
              "      }\n",
              "      quickchartButtonEl.classList.remove('colab-df-spinner');\n",
              "      quickchartButtonEl.classList.add('colab-df-quickchart-complete');\n",
              "    }\n",
              "    (() => {\n",
              "      let quickchartButtonEl =\n",
              "        document.querySelector('#df-93097c34-300c-4a8b-a182-ce3ebcc06354 button');\n",
              "      quickchartButtonEl.style.display =\n",
              "        google.colab.kernel.accessAllowed ? 'block' : 'none';\n",
              "    })();\n",
              "  </script>\n",
              "</div>\n",
              "    </div>\n",
              "  </div>\n"
            ]
          },
          "metadata": {},
          "execution_count": 8
        }
      ],
      "source": [
        "data.head(5)"
      ]
    },
    {
      "cell_type": "code",
      "execution_count": null,
      "metadata": {
        "colab": {
          "base_uri": "https://localhost:8080/"
        },
        "id": "AdFxqnvxBrAO",
        "outputId": "852fd5b3-cf11-46b5-8797-72eea63268eb"
      },
      "outputs": [
        {
          "output_type": "stream",
          "name": "stdout",
          "text": [
            "df: (891, 11)\n",
            "x_train (668, 10)\n",
            "x_test: (223, 10)\n",
            "y_train: (223,)\n",
            "y_test: (223,)\n"
          ]
        }
      ],
      "source": [
        "# Splitting the main dataset into training and testing sets\n",
        "\n",
        "x = data.drop(['Survived'], axis=1)\n",
        "y = data['Survived']\n",
        "X_train, X_test, y_train, y_test = sklearn.model_selection.train_test_split(x, y)\n",
        "#printing the x_train and y_train.\n",
        "print(\"df:\", data.shape)\n",
        "print(\"x_train\", X_train.shape)\n",
        "print(\"x_test:\", X_test.shape)\n",
        "print(\"y_train:\", y_test.shape)\n",
        "print(\"y_test:\", y_test.shape)\n"
      ]
    },
    {
      "cell_type": "markdown",
      "source": [
        "i splited the data befor starting doing other featur engineering and other processes so separat definitely the training dataset and the test dataset,and not learn from each other as well"
      ],
      "metadata": {
        "id": "JZDbT45cDxUo"
      }
    },
    {
      "cell_type": "markdown",
      "metadata": {
        "id": "b9q_R0TNCRw0"
      },
      "source": [
        "#Data Preprocessing and Feature Engineering\n"
      ]
    },
    {
      "cell_type": "code",
      "execution_count": null,
      "metadata": {
        "id": "1L3ywdUJgWA2"
      },
      "outputs": [],
      "source": [
        "data['Sex'].replace({'male': 1, 'female': 0}, inplace=True)\n",
        "\n",
        "# Set 'PassengerId' as the index\n",
        "data.set_index('PassengerId', inplace=True)\n"
      ]
    },
    {
      "cell_type": "markdown",
      "source": [
        "To address missing age values, I utilized the fillna() method to substitute them with the average age of all passengers.\n"
      ],
      "metadata": {
        "id": "h4a-a4r2Fjj8"
      }
    },
    {
      "cell_type": "code",
      "execution_count": null,
      "metadata": {
        "id": "tb1zW5hHBwrR"
      },
      "outputs": [],
      "source": [
        "\n",
        "# Fill in missing values in the Age column of the training set with the mean\n",
        "X_train['Age'].fillna(np.mean(X_train['Age']), inplace=True)\n",
        "\n",
        "# Fill in missing values in the Age column of the testing set with the mean\n",
        "X_test['Age'].fillna(np.mean(X_test['Age']), inplace=True)\n"
      ]
    },
    {
      "cell_type": "markdown",
      "source": [
        "I droped the Cabin here because i think it's useless for my prediction by using drop function."
      ],
      "metadata": {
        "id": "4nXZs8sgF_Hp"
      }
    },
    {
      "cell_type": "code",
      "execution_count": null,
      "metadata": {
        "id": "hJiqg1uh9123"
      },
      "outputs": [],
      "source": [
        "#here we can drop cabin\n",
        "X_train.drop('Cabin', axis=1, inplace=True)\n",
        "X_test.drop('Cabin', axis=1, inplace=True)"
      ]
    },
    {
      "cell_type": "markdown",
      "metadata": {
        "id": "GVJX1jWJH7wN"
      },
      "source": [
        "Defining the Features and the Target Label\n"
      ]
    },
    {
      "cell_type": "markdown",
      "metadata": {
        "id": "kJ3oKO2iltbA"
      },
      "source": [
        "#one hot encoding"
      ]
    },
    {
      "cell_type": "markdown",
      "source": [
        "I used one hot encoding to transfer categorical data to numerical dataset so our model could process it.because it is impringov the data's interpretability, which is beneficial for comprehending machine learning model output."
      ],
      "metadata": {
        "id": "B_pYpoL2GcqS"
      }
    },
    {
      "cell_type": "code",
      "execution_count": null,
      "metadata": {
        "colab": {
          "base_uri": "https://localhost:8080/"
        },
        "id": "vO5KtrivBay4",
        "outputId": "96e238ad-9165-42f7-ee62-721d45c5056e"
      },
      "outputs": [
        {
          "output_type": "stream",
          "name": "stdout",
          "text": [
            "X_train: (668, 1524)\n",
            "y_train: (223, 1524)\n"
          ]
        }
      ],
      "source": [
        "# Creating one hot encoding object\n",
        "encoder = sklearn.preprocessing.OneHotEncoder(handle_unknown='ignore')\n",
        "\n",
        "# Fitting encoder on X_train\n",
        "encoder.fit(X_train)\n",
        "\n",
        "# Transforming X_train using the encoder and saving it back into X_train variable\n",
        "X_train = encoder.transform(X_train)\n",
        "\n",
        "# Transforming X_test using the encoder and saving it back into X_test variable\n",
        "X_test = encoder.transform(X_test)\n",
        "\n",
        "# Printing X_train shape to check the size\n",
        "print(\"X_train:\", X_train.shape)\n",
        "print('y_train:',X_test.shape)"
      ]
    },
    {
      "cell_type": "markdown",
      "metadata": {
        "id": "xxgiqo9WK68o"
      },
      "source": [
        "#Dealing with Imbalanced Classes\n",
        "\n",
        "\n"
      ]
    },
    {
      "cell_type": "markdown",
      "source": [
        "The training data's class imbalance is fixed by the algorithm using SMOTE, producing a more balanced dataset for the classification task."
      ],
      "metadata": {
        "id": "H6z9Mc0rLMJf"
      }
    },
    {
      "cell_type": "code",
      "execution_count": null,
      "metadata": {
        "colab": {
          "base_uri": "https://localhost:8080/"
        },
        "id": "RAvYveRftgaz",
        "outputId": "c56c2fbf-9396-47b7-c39e-77a612077911"
      },
      "outputs": [
        {
          "output_type": "stream",
          "name": "stdout",
          "text": [
            "X_train_resampled size: (822, 1524)\n",
            "y_train_resampled size: (822,)\n"
          ]
        }
      ],
      "source": [
        "# Creating a SMOTE scaler object\n",
        "sampler = imblearn.over_sampling.SMOTE(random_state=25)\n",
        "\n",
        "# Fitting the scaler object on X_train and y_train and saving them in new variables\n",
        "X_train_resampled, y_train_resampled = sampler.fit_resample(X_train, y_train)\n",
        "\n",
        "# Checking the size of the resampled X_train and y_train\n",
        "print(\"X_train_resampled size:\",X_train_resampled.shape)\n",
        "print(\"y_train_resampled size:\",y_train_resampled.shape)\n"
      ]
    },
    {
      "cell_type": "markdown",
      "source": [
        "Here i reduces the dimensionality of the training data by applying principal component analysis (PCA). A dimensionality reduction method called principal component analysis (PCA) finds the key features in a dataset and condenses them into a smaller set of new features. By decreasing the quantity of noise and redundancy in the data, this can aid in enhancing the performance of machine learning models."
      ],
      "metadata": {
        "id": "OTXcRYAtL7wN"
      }
    },
    {
      "cell_type": "code",
      "execution_count": null,
      "metadata": {
        "colab": {
          "base_uri": "https://localhost:8080/"
        },
        "id": "_mSvEm-F9h57",
        "outputId": "83fa1275-bce7-4562-9c33-8641255b9703"
      },
      "outputs": [
        {
          "output_type": "stream",
          "name": "stdout",
          "text": [
            "(822, 822)\n"
          ]
        }
      ],
      "source": [
        "# Creating PCA object with 25 of random state\n",
        "pca = sklearn.decomposition.PCA(random_state=25)\n",
        "\n",
        "# We convert the sparse matrix X_train to a dense matrix by using toarray()\n",
        "X_train_resampled = X_train_resampled.toarray()\n",
        "\n",
        "\n",
        "# Fitting and transforming the resampled X_train\n",
        "X_train_pca = pca.fit_transform(X_train_resampled)\n",
        "\n",
        "\n",
        "# Transforming the resampled X_test\n",
        "X_test_pca = pca.transform(X_test.toarray())\n",
        "\n",
        "# Printing the size of resampled X_train and resampled X_test after dimensionality reduction.\n",
        "print(X_train_pca.shape)\n"
      ]
    },
    {
      "cell_type": "code",
      "source": [
        "print(y_train.shape)\n"
      ],
      "metadata": {
        "colab": {
          "base_uri": "https://localhost:8080/"
        },
        "id": "67jtX2fNJ5YU",
        "outputId": "66c9a49c-0ad3-49e0-cfa3-e064bf52212a"
      },
      "execution_count": null,
      "outputs": [
        {
          "output_type": "stream",
          "name": "stdout",
          "text": [
            "(668,)\n"
          ]
        }
      ]
    },
    {
      "cell_type": "markdown",
      "source": [
        "I applied logistic regression and SVM to build the model. Then I trained both models with the x train data and used the x test data to make predictions."
      ],
      "metadata": {
        "id": "KPlbH0FPNdvA"
      }
    },
    {
      "cell_type": "code",
      "execution_count": null,
      "metadata": {
        "colab": {
          "base_uri": "https://localhost:8080/",
          "height": 76
        },
        "id": "B1bgB4MLNQ_5",
        "outputId": "b14ad056-912a-4d84-a676-bad0029555b5"
      },
      "outputs": [
        {
          "output_type": "execute_result",
          "data": {
            "text/plain": [
              "SVC()"
            ],
            "text/html": [
              "<style>#sk-container-id-1 {color: black;background-color: white;}#sk-container-id-1 pre{padding: 0;}#sk-container-id-1 div.sk-toggleable {background-color: white;}#sk-container-id-1 label.sk-toggleable__label {cursor: pointer;display: block;width: 100%;margin-bottom: 0;padding: 0.3em;box-sizing: border-box;text-align: center;}#sk-container-id-1 label.sk-toggleable__label-arrow:before {content: \"▸\";float: left;margin-right: 0.25em;color: #696969;}#sk-container-id-1 label.sk-toggleable__label-arrow:hover:before {color: black;}#sk-container-id-1 div.sk-estimator:hover label.sk-toggleable__label-arrow:before {color: black;}#sk-container-id-1 div.sk-toggleable__content {max-height: 0;max-width: 0;overflow: hidden;text-align: left;background-color: #f0f8ff;}#sk-container-id-1 div.sk-toggleable__content pre {margin: 0.2em;color: black;border-radius: 0.25em;background-color: #f0f8ff;}#sk-container-id-1 input.sk-toggleable__control:checked~div.sk-toggleable__content {max-height: 200px;max-width: 100%;overflow: auto;}#sk-container-id-1 input.sk-toggleable__control:checked~label.sk-toggleable__label-arrow:before {content: \"▾\";}#sk-container-id-1 div.sk-estimator input.sk-toggleable__control:checked~label.sk-toggleable__label {background-color: #d4ebff;}#sk-container-id-1 div.sk-label input.sk-toggleable__control:checked~label.sk-toggleable__label {background-color: #d4ebff;}#sk-container-id-1 input.sk-hidden--visually {border: 0;clip: rect(1px 1px 1px 1px);clip: rect(1px, 1px, 1px, 1px);height: 1px;margin: -1px;overflow: hidden;padding: 0;position: absolute;width: 1px;}#sk-container-id-1 div.sk-estimator {font-family: monospace;background-color: #f0f8ff;border: 1px dotted black;border-radius: 0.25em;box-sizing: border-box;margin-bottom: 0.5em;}#sk-container-id-1 div.sk-estimator:hover {background-color: #d4ebff;}#sk-container-id-1 div.sk-parallel-item::after {content: \"\";width: 100%;border-bottom: 1px solid gray;flex-grow: 1;}#sk-container-id-1 div.sk-label:hover label.sk-toggleable__label {background-color: #d4ebff;}#sk-container-id-1 div.sk-serial::before {content: \"\";position: absolute;border-left: 1px solid gray;box-sizing: border-box;top: 0;bottom: 0;left: 50%;z-index: 0;}#sk-container-id-1 div.sk-serial {display: flex;flex-direction: column;align-items: center;background-color: white;padding-right: 0.2em;padding-left: 0.2em;position: relative;}#sk-container-id-1 div.sk-item {position: relative;z-index: 1;}#sk-container-id-1 div.sk-parallel {display: flex;align-items: stretch;justify-content: center;background-color: white;position: relative;}#sk-container-id-1 div.sk-item::before, #sk-container-id-1 div.sk-parallel-item::before {content: \"\";position: absolute;border-left: 1px solid gray;box-sizing: border-box;top: 0;bottom: 0;left: 50%;z-index: -1;}#sk-container-id-1 div.sk-parallel-item {display: flex;flex-direction: column;z-index: 1;position: relative;background-color: white;}#sk-container-id-1 div.sk-parallel-item:first-child::after {align-self: flex-end;width: 50%;}#sk-container-id-1 div.sk-parallel-item:last-child::after {align-self: flex-start;width: 50%;}#sk-container-id-1 div.sk-parallel-item:only-child::after {width: 0;}#sk-container-id-1 div.sk-dashed-wrapped {border: 1px dashed gray;margin: 0 0.4em 0.5em 0.4em;box-sizing: border-box;padding-bottom: 0.4em;background-color: white;}#sk-container-id-1 div.sk-label label {font-family: monospace;font-weight: bold;display: inline-block;line-height: 1.2em;}#sk-container-id-1 div.sk-label-container {text-align: center;}#sk-container-id-1 div.sk-container {/* jupyter's `normalize.less` sets `[hidden] { display: none; }` but bootstrap.min.css set `[hidden] { display: none !important; }` so we also need the `!important` here to be able to override the default hidden behavior on the sphinx rendered scikit-learn.org. See: https://github.com/scikit-learn/scikit-learn/issues/21755 */display: inline-block !important;position: relative;}#sk-container-id-1 div.sk-text-repr-fallback {display: none;}</style><div id=\"sk-container-id-1\" class=\"sk-top-container\"><div class=\"sk-text-repr-fallback\"><pre>SVC()</pre><b>In a Jupyter environment, please rerun this cell to show the HTML representation or trust the notebook. <br />On GitHub, the HTML representation is unable to render, please try loading this page with nbviewer.org.</b></div><div class=\"sk-container\" hidden><div class=\"sk-item\"><div class=\"sk-estimator sk-toggleable\"><input class=\"sk-toggleable__control sk-hidden--visually\" id=\"sk-estimator-id-1\" type=\"checkbox\" checked><label for=\"sk-estimator-id-1\" class=\"sk-toggleable__label sk-toggleable__label-arrow\">SVC</label><div class=\"sk-toggleable__content\"><pre>SVC()</pre></div></div></div></div></div>"
            ]
          },
          "metadata": {},
          "execution_count": 17
        }
      ],
      "source": [
        "# Train logistic regression model\n",
        "log_reg_model = LogisticRegression()\n",
        "log_reg_model.fit(X_train_pca, y_train_resampled)\n",
        "\n",
        "# Train SVM model\n",
        "svm_model = SVC()\n",
        "svm_model.fit(X_train_pca, y_train_resampled)"
      ]
    },
    {
      "cell_type": "code",
      "execution_count": null,
      "metadata": {
        "id": "z8AE0WqeNc3H"
      },
      "outputs": [],
      "source": [
        "#Predicted model\n",
        "y_pred_log_reg = log_reg_model.predict(X_test_pca)\n",
        "y_pred_svm = svm_model.predict(X_test_pca)"
      ]
    },
    {
      "cell_type": "markdown",
      "source": [
        "Here i'm comparing the result of the prediction The logistic regression and support vector machine (SVM).\n",
        "Based on these results, we can compare the performance of the two models. We can see that ogistic regression is a better model than SVM for this problem, as it has higher accuracy, precision, and F1 score. However, these results may vary depending on the data, the features, and the parameters of the models"
      ],
      "metadata": {
        "id": "u6HactuxP6hc"
      }
    },
    {
      "cell_type": "code",
      "execution_count": null,
      "metadata": {
        "id": "Iv4JcjOROzm1"
      },
      "outputs": [],
      "source": [
        "# Evaluate logistic regression\n",
        "accuracy_log_reg = accuracy_score(y_test, y_pred_log_reg)\n",
        "precision_log_reg = precision_score(y_test, y_pred_log_reg)\n",
        "recall_log_reg = recall_score(y_test, y_pred_log_reg)\n",
        "f1_log_reg = f1_score(y_test, y_pred_log_reg)\n",
        "\n",
        "# Evaluate SVM\n",
        "accuracy_svm = accuracy_score(y_test, y_pred_svm)\n",
        "precision_svm = precision_score(y_test, y_pred_svm)\n",
        "recall_svm = recall_score(y_test, y_pred_svm)\n",
        "f1_svm = f1_score(y_test, y_pred_svm)\n"
      ]
    },
    {
      "cell_type": "code",
      "execution_count": null,
      "metadata": {
        "colab": {
          "base_uri": "https://localhost:8080/"
        },
        "id": "1Lz5CcHlNjM1",
        "outputId": "bf2bc428-7909-4ca1-a0a4-13c23f10acd8"
      },
      "outputs": [
        {
          "output_type": "stream",
          "name": "stdout",
          "text": [
            "Logistic Regression:\n",
            "Accuracy: 0.81\n",
            "Precision: 0.72\n",
            "Recall: 0.72\n",
            "F1 Score: 0.72\n",
            "\n",
            "\n",
            "SVM:\n",
            "Accuracy: 0.82\n",
            "Precision: 0.72\n",
            "Recall: 0.75\n",
            "F1 Score: 0.73\n",
            "\n",
            "\n"
          ]
        }
      ],
      "source": [
        "print(\"Logistic Regression:\")\n",
        "print(f\"Accuracy: {accuracy_log_reg:.2f}\")\n",
        "print(f\"Precision: {precision_log_reg:.2f}\")\n",
        "print(f\"Recall: {recall_log_reg:.2f}\")\n",
        "print(f\"F1 Score: {f1_log_reg:.2f}\")\n",
        "print(\"\\n\")\n",
        "\n",
        "print(\"SVM:\")\n",
        "print(f\"Accuracy: {accuracy_svm:.2f}\")\n",
        "print(f\"Precision: {precision_svm:.2f}\")\n",
        "print(f\"Recall: {recall_svm:.2f}\")\n",
        "print(f\"F1 Score: {f1_svm:.2f}\")\n",
        "print(\"\\n\")"
      ]
    },
    {
      "cell_type": "markdown",
      "source": [
        "calculatin TP and TN for both models\n",
        "The quantity of cases that are accurately anticipated to be negative is known as true negatives (TN).\n",
        "The quantity of cases that are mistakenly projected as positive when they are actually negative is known as false positives (FP).\n",
        "The quantity of cases that are mistakenly anticipated as negative when they are actually positive is known as false negatives (FN).\n",
        "The quantity of cases that are accurately anticipated to be positive is known as true positives (TP)."
      ],
      "metadata": {
        "id": "atRL40VzQpOq"
      }
    },
    {
      "cell_type": "code",
      "execution_count": null,
      "metadata": {
        "id": "7mQ7KHgEyeK_"
      },
      "outputs": [],
      "source": [
        "# For logistic regression model\n",
        "tn_log, fp_log, fn_log, tp_log = confusion_matrix(y_test, y_pred_log_reg).ravel()\n",
        "\n",
        "# For SVM model\n",
        "tn_svm, fp_svm, fn_svm, tp_svm = confusion_matrix(y_test, y_pred_svm).ravel()"
      ]
    },
    {
      "cell_type": "markdown",
      "source": [
        "the result indicates that of the 223 cases, the logistic regression model predicted 54 positive and 127 negative cases correctly, and 21 positive and 21 negative cases inaccurately.and it`s the same for SVM"
      ],
      "metadata": {
        "id": "SjE0hJCISaEq"
      }
    },
    {
      "cell_type": "code",
      "execution_count": null,
      "metadata": {
        "colab": {
          "base_uri": "https://localhost:8080/"
        },
        "id": "OcF-BewMyi0s",
        "outputId": "34391957-4583-4227-813d-e38950ec9dd3"
      },
      "outputs": [
        {
          "output_type": "stream",
          "name": "stdout",
          "text": [
            "Logistic Regression model confusion matrix:\n",
            "True negatives:  127\n",
            "False positives:  21\n",
            "False negatives:  21\n",
            "True positives:  54\n",
            "\n",
            "SVM model confusion matrix:\n",
            "True negatives:  126\n",
            "False positives:  22\n",
            "False negatives:  19\n",
            "True positives:  56\n"
          ]
        }
      ],
      "source": [
        "print(\"Logistic Regression model confusion matrix:\")\n",
        "print(\"True negatives: \", tn_log)\n",
        "print(\"False positives: \", fp_log)\n",
        "print(\"False negatives: \", fn_log)\n",
        "print(\"True positives: \", tp_log)\n",
        "\n",
        "print(\"\\nSVM model confusion matrix:\")\n",
        "print(\"True negatives: \", tn_svm)\n",
        "print(\"False positives: \", fp_svm)\n",
        "print(\"False negatives: \", fn_svm)\n",
        "print(\"True positives: \", tp_svm)"
      ]
    },
    {
      "cell_type": "markdown",
      "source": [
        "After finding TP and TN we implement this methode which indicat the ratio of correctly predicted positive observations to the total predicted positives. It answers the question “What proportion of positive identifications was actually correct?”"
      ],
      "metadata": {
        "id": "bNk2OcN_Y2SY"
      }
    },
    {
      "cell_type": "code",
      "execution_count": null,
      "metadata": {
        "colab": {
          "base_uri": "https://localhost:8080/"
        },
        "id": "DHuk_MoIzkca",
        "outputId": "36971af4-0334-4a06-ae70-8c1840857585"
      },
      "outputs": [
        {
          "output_type": "stream",
          "name": "stdout",
          "text": [
            "Logistic Regression Model Performance:\n",
            "Precision: 0.7311827956989247\n",
            "Recall: 0.8\n",
            "F1 Score: 0.7640449438202247\n",
            "======================================================================\n",
            "SVM Model Performance:\n",
            "Precision: 0.7083333333333334\n",
            "Recall: 0.8\n",
            "F1 Score: 0.7513812154696135\n"
          ]
        }
      ],
      "source": [
        "# For logistic regression model\n",
        "tn_log, fp_log, fn_log, tp_log = confusion_matrix(y_test, y_pred_log_reg).ravel()\n",
        "\n",
        "# For SVM model\n",
        "tn_svm, fp_svm, fn_svm, tp_svm = confusion_matrix(y_test, y_pred_svm).ravel()\n",
        "# Calculate the precision and recall for logistic regression\n",
        "precision_log = tp_log / (tp_log + fp_log)\n",
        "recall_log = tp_log / (tp_log + fn_log)\n",
        "\n",
        "f1_score_log = 2 * (precision_log * recall_log) / (precision_log + recall_log)\n",
        "\n",
        "# Calculate the precision and recall for SVM\n",
        "precision_svm = tp_svm / (tp_svm + fp_svm)\n",
        "recall_svm = tp_svm / (tp_svm + fn_svm)\n",
        "\n",
        "f1_score_svm = 2 * (precision_svm * recall_svm) / (precision_svm + recall_svm)\n",
        "\n",
        "print(\"Logistic Regression Model Performance:\")\n",
        "print(\"Precision:\", precision_log)\n",
        "print(\"Recall:\", recall_log)\n",
        "print(\"F1 Score:\", f1_score_log)\n",
        "print('====='*14)\n",
        "print(\"SVM Model Performance:\")\n",
        "print(\"Precision:\", precision_svm)\n",
        "print(\"Recall:\", recall_svm)\n",
        "print(\"F1 Score:\", f1_score_svm)"
      ]
    },
    {
      "cell_type": "markdown",
      "source": [
        "by using different accuracy mitrics we noticed that  both models have the same recall, but the logistic regression model has a higher precision and F1 score,which mean that LR the  predicted positive observations correctly is better than SVM"
      ],
      "metadata": {
        "id": "4dMxUjXzZYr1"
      }
    },
    {
      "cell_type": "code",
      "execution_count": null,
      "metadata": {
        "colab": {
          "base_uri": "https://localhost:8080/"
        },
        "id": "8qX__wah4W49",
        "outputId": "606a2f72-3650-41d3-8bd7-9bba4790d0c6"
      },
      "outputs": [
        {
          "output_type": "stream",
          "name": "stdout",
          "text": [
            "Reweighted Logistic Regression model confusion matrix:\n",
            "True negatives: 114\n",
            "False positives: 24\n",
            "False negatives: 24\n",
            "True positives: 61\n"
          ]
        }
      ],
      "source": [
        "# Calculate the weights based on the confusion matrix\n",
        "tpr_majority_log = tp_log / (tp_log + fn_log)\n",
        "tpr_minority_log = tp_log / (tp_log + fn_log)\n",
        "\n",
        "# Calculate the difference in TPR between the majority group and the minority group for logistic regression\n",
        "tpr_diff_log = abs(tpr_majority_log - tpr_minority_log)\n",
        "\n",
        "# Assign weights to data points based on their sensitivity to bias for logistic regression\n",
        "weights_log = 1 / (tpr_diff_log + 1)\n",
        "\n",
        "# Refit the logistic regression model with the reweighted data\n",
        "log_reg_model.fit(X_train, y_train, sample_weight=weights_log)\n",
        "\n",
        "# Evaluate the reweighted logistic regression model on the test set\n",
        "y_pred_reweighted_log = log_reg_model.predict(X_test)\n",
        "tn_reweighted_log, fp_reweighted_log, fn_reweighted_log, tp_reweighted_log = confusion_matrix(y_test, y_pred_reweighted_log).ravel()\n",
        "\n",
        "# Print the reweighted logistic regression model confusion matrix\n",
        "print(\"Reweighted Logistic Regression model confusion matrix:\")\n",
        "print(\"True negatives:\", tn_reweighted_log)\n",
        "print(\"False positives:\", fp_reweighted_log)\n",
        "print(\"False negatives:\", fn_reweighted_log)\n",
        "print(\"True positives:\", tp_reweighted_log)"
      ]
    },
    {
      "cell_type": "code",
      "execution_count": null,
      "metadata": {
        "colab": {
          "base_uri": "https://localhost:8080/"
        },
        "id": "NsTyUl2gMhUA",
        "outputId": "7d6ba24b-da1a-4463-a010-2ba3d8a2b8be"
      },
      "outputs": [
        {
          "output_type": "stream",
          "name": "stdout",
          "text": [
            "Accuracy of reweighted logistic regression model: 0.8161434977578476\n"
          ]
        }
      ],
      "source": [
        "# Number of correct predictions\n",
        "correct_predictions = 123 + 59  # True negatives + True positives\n",
        "\n",
        "# Total number of predictions\n",
        "total_predictions = 123 + 16 + 25 + 59  # True negatives + False positives + False negatives + True positives\n",
        "\n",
        "# Accuracy\n",
        "accuracy = correct_predictions / total_predictions\n",
        "\n",
        "print(\"Accuracy of reweighted logistic regression model:\", accuracy)"
      ]
    },
    {
      "cell_type": "markdown",
      "source": [
        "The result Accuracy of reweighted logistic regression model: 0.8 means that the model correctly predicted the outcome (either positive or negative) for 80% of the instances in the dataset."
      ],
      "metadata": {
        "id": "QlwHaXjebG3n"
      }
    },
    {
      "cell_type": "code",
      "execution_count": null,
      "metadata": {
        "colab": {
          "base_uri": "https://localhost:8080/"
        },
        "id": "1esX_mSVyjf4",
        "outputId": "b8b60808-0b5d-4bc7-9f8f-4a4b2b3be369"
      },
      "outputs": [
        {
          "output_type": "stream",
          "name": "stdout",
          "text": [
            "Reweighted SVM model confusion matrix:\n",
            "True negatives: 118\n",
            "False positives: 20\n",
            "False negatives: 25\n",
            "True positives: 60\n"
          ]
        }
      ],
      "source": [
        "\n",
        "# Assuming tp_svm and fn_svm are numpy arrays representing the true positives and false negatives for each sapmle.\n",
        "tp_svm = np.array([tp_svm])\n",
        "fn_svm = np.array([fn_svm])\n",
        "\n",
        "# Calculate the TPR for each group\n",
        "tpr_majority = tp_svm / (tp_svm + fn_svm)\n",
        "tpr_minority = tp_svm / (tp_svm + fn_svm)\n",
        "\n",
        "# Calculate the difference in TPR between the majority group and the minority group\n",
        "tpr_diff = abs(tpr_majority - tpr_minority)\n",
        "\n",
        "# Convert weights_svm to a NumPy array with the same length as X_train\n",
        "weights_svm = np.full((len(X_train_pca),), tpr_diff + 0.0001)\n",
        "\n",
        "# Convert X_train to a sparse matrix\n",
        "X_train_sparse = csr_matrix(X_train_pca)\n",
        "\n",
        "# Refit the SVM model with the reweighted data\n",
        "svm_model = svm.SVC()\n",
        "svm_model.fit(X_train_sparse, y_train_resampled, sample_weight=weights_svm)\n",
        "\n",
        "# Evaluate the reweighted SVM model on the test set\n",
        "y_pred_reweighted_svm = svm_model.predict(X_test_pca)\n",
        "tn_reweighted_svm, fp_reweighted_svm, fn_reweighted_svm, tp_reweighted_svm = confusion_matrix(y_test, y_pred_reweighted_svm).ravel()\n",
        "\n",
        "# Print the reweighted SVM model confusion matrix\n",
        "print(\"Reweighted SVM model confusion matrix:\")\n",
        "print(\"True negatives:\", tn_reweighted_svm)\n",
        "print(\"False positives:\", fp_reweighted_svm)\n",
        "print(\"False negatives:\", fn_reweighted_svm)\n",
        "print(\"True positives:\", tp_reweighted_svm)"
      ]
    },
    {
      "cell_type": "markdown",
      "metadata": {
        "id": "osiR38GjDhnI"
      },
      "source": [
        "From these results, it seems like my model is doing well at predicting negative instances (with 140 true negatives and 0 false positives), but it’s not doing well at predicting positive instances (with 0 true positives and 83 false negatives). This could indicate that your model is biased towards predicting negative instances, or it could be a sign that your model is not well-suited to this particular dataset or problem. You might want to consider trying a different model or adjusting the parameters of your SVM model to improve its performance."
      ]
    },
    {
      "cell_type": "code",
      "execution_count": null,
      "metadata": {
        "colab": {
          "base_uri": "https://localhost:8080/"
        },
        "id": "WF6E7jJkM_px",
        "outputId": "4766731c-1d7a-46b0-efe0-341bc36b4278"
      },
      "outputs": [
        {
          "output_type": "stream",
          "name": "stdout",
          "text": [
            "Accuracy of reweighted SVM model: 0.6995515695067265\n"
          ]
        }
      ],
      "source": [
        "# Number of correct predictions\n",
        "correct_predictions = 98 + 58  # True negatives + True positives\n",
        "\n",
        "# Total number of predictions\n",
        "total_predictions = 98 + 50 + 17 + 58  # True negatives + False positives + False negatives + True positives\n",
        "\n",
        "# Accuracy\n",
        "accuracy = correct_predictions / total_predictions\n",
        "\n",
        "print(\"Accuracy of reweighted SVM model:\", accuracy)"
      ]
    },
    {
      "cell_type": "markdown",
      "source": [
        "# Add more hyper parapmeter tuning to improve the accuracy"
      ],
      "metadata": {
        "id": "-8duIPgucUGj"
      }
    },
    {
      "cell_type": "code",
      "execution_count": null,
      "metadata": {
        "id": "8qfWDkcsDfg0"
      },
      "outputs": [],
      "source": [
        "# Create a logistic regression model with L2 regularization\n",
        "log_reg_reg = LogisticRegression(C=0.1, penalty='l2')\n",
        "\n",
        "# Fit the model\n",
        "log_reg_reg.fit(X_train, y_train)\n",
        "\n",
        "# Evaluate the model\n",
        "y_pred = log_reg_reg.predict(X_test)"
      ]
    },
    {
      "cell_type": "code",
      "execution_count": null,
      "metadata": {
        "colab": {
          "base_uri": "https://localhost:8080/"
        },
        "id": "5HxAJGgYKD7f",
        "outputId": "01c16c11-315b-48bb-c019-118d6ca895b2"
      },
      "outputs": [
        {
          "output_type": "stream",
          "name": "stdout",
          "text": [
            "Logistic Regression model with C=0.1 and penalty=l2:\n",
            "Accuracy: 0.8116591928251121\n",
            "Logistic Regression model with C=0.01 and penalty=l2:\n",
            "Accuracy: 0.8116591928251121\n",
            "Logistic Regression model with C=0.001 and penalty=l2:\n",
            "Accuracy: 0.8116591928251121\n"
          ]
        }
      ],
      "source": [
        "# List of regularization parameters and penalties\n",
        "parameters = [0.1, 0.01, 0.001]\n",
        "penalties = ['l2']\n",
        "\n",
        "# Loop over each combination of parameters\n",
        "for C in parameters:\n",
        "    for penalty in penalties:\n",
        "        # Create and fit the model\n",
        "        log_reg_reg = LogisticRegression(C=C, penalty=penalty)\n",
        "        log_reg_reg.fit(X_train_pca, y_train_resampled)\n",
        "\n",
        "        # Predict the labels of the test set\n",
        "        y_pred = log_reg_reg.predict(X_test_pca)\n",
        "\n",
        "        # Calculate the accuracy\n",
        "        accuracy = accuracy_score(y_test, y_pred_log_reg)\n",
        "\n",
        "        # Print the results\n",
        "        print(f\"Logistic Regression model with C={C} and penalty={penalty}:\")\n",
        "        print(f\"Accuracy: {accuracy}\")"
      ]
    },
    {
      "cell_type": "code",
      "execution_count": null,
      "metadata": {
        "colab": {
          "base_uri": "https://localhost:8080/"
        },
        "id": "4pibbJ5_Kk5l",
        "outputId": "45251718-1fc3-494a-d2e4-d9a04a2e75aa"
      },
      "outputs": [
        {
          "output_type": "stream",
          "name": "stdout",
          "text": [
            "SVM model with C=0.1:\n",
            "Accuracy: 0.7937219730941704\n",
            "SVM model with C=1:\n",
            "Accuracy: 0.7982062780269058\n",
            "SVM model with C=10:\n",
            "Accuracy: 0.7937219730941704\n"
          ]
        }
      ],
      "source": [
        "# List of regularization parameters\n",
        "parameters = [0.1, 1, 10]\n",
        "\n",
        "# Loop over each regularization parameter\n",
        "for C in parameters:\n",
        "    # Create and fit the model\n",
        "    svm_model = svm.SVC(C=C)\n",
        "    svm_model.fit(X_train_pca, y_train_resampled)\n",
        "\n",
        "    # Predict the labels of the test set\n",
        "    y_pred_svm = svm_model.predict(X_test_pca)\n",
        "\n",
        "    # Calculate the accuracy\n",
        "    accuracy = accuracy_score(y_test, y_pred_svm)\n",
        "\n",
        "    # Print the results\n",
        "    print(f\"SVM model with C={C}:\")\n",
        "    print(f\"Accuracy: {accuracy}\")"
      ]
    },
    {
      "cell_type": "markdown",
      "metadata": {
        "id": "0Zq2VQdvSRPv"
      },
      "source": [
        "For the SVM model:\n",
        "\n",
        "The model correctly predicted 73 true negatives and 25 true positives.\n",
        "However, the model incorrectly predicted 32 false positives and 49 false negatives."
      ]
    },
    {
      "cell_type": "markdown",
      "source": [
        "By using fairlearn liberary which is used to train and evaluate machine learning models in a way that ensures fairness across different demographic groups.But i created a copy of my dataset and i drop all the other columns because i found difficulty of having the same length of my targetlabels."
      ],
      "metadata": {
        "id": "phdLZKcBctNx"
      }
    },
    {
      "cell_type": "code",
      "execution_count": null,
      "metadata": {
        "id": "WLOltajpSQTP"
      },
      "outputs": [],
      "source": [
        "# Create a copy of your data\n",
        "data_copy = data.copy()\n",
        "\n",
        "# Replace 'male' with 1 and 'female' with 0 in the 'Sex' column\n",
        "data_copy['Sex'].replace({'male': 1, 'female': 0}, inplace=True)\n",
        "\n",
        "# Define the features and target variable\n",
        "X = data_copy['Sex']\n",
        "y = data_copy['Survived']\n",
        "\n",
        "# Split the data again\n",
        "X_train_copy, X_test_copy, y_train_copy, y_test_copy = train_test_split(X, y)\n",
        "\n",
        "# Reshape X_train_copy and X_test_copy to 2D arrays\n",
        "X_train_copy = X_train_copy.values.reshape(-1, 1)\n",
        "X_test_copy = X_test_copy.values.reshape(-1, 1)\n",
        "\n",
        "# Create a copy of the sensitive_features array\n",
        "sensitive_features_train_copy = X_train_copy\n",
        "sensitive_features_test_copy = X_test_copy\n",
        "\n",
        "# Fit the mitigators\n",
        "mitigator_log_reg_copy = ExponentiatedGradient(log_reg_model, constraints=DemographicParity())\n",
        "mitigator_log_reg_copy.fit(X_train_copy, y_train_copy, sensitive_features=sensitive_features_train_copy)\n",
        "\n",
        "mitigator_svm_copy = ExponentiatedGradient(svm_model, constraints=DemographicParity())\n",
        "mitigator_svm_copy.fit(X_train_copy, y_train_copy, sensitive_features=sensitive_features_train_copy)\n",
        "\n",
        "# Make predictions\n",
        "y_pred_mitigated_log_reg_copy = mitigator_log_reg_copy.predict(X_test_copy)\n",
        "y_pred_mitigated_svm_copy = mitigator_svm_copy.predict(X_test_copy)\n",
        "\n",
        "# Compute the fairness metrics\n",
        "metric_frame_log_reg_copy = MetricFrame(metrics=accuracy_score, y_true=y_test_copy, y_pred=y_pred_mitigated_log_reg_copy, sensitive_features=sensitive_features_test_copy)\n",
        "metric_frame_svm_copy = MetricFrame(metrics=accuracy_score, y_true=y_test_copy, y_pred=y_pred_mitigated_svm_copy, sensitive_features=sensitive_features_test_copy)\n"
      ]
    },
    {
      "cell_type": "code",
      "source": [
        "# Print the accuracy of the mitigated logistic regression model\n",
        "print(\"Accuracy of mitigated logistic regression model: \", metric_frame_log_reg_copy.overall)\n",
        "\n",
        "# Print the accuracy of the mitigated SVM model\n",
        "print(\"Accuracy of mitigated SVM model: \", metric_frame_svm_copy.overall)"
      ],
      "metadata": {
        "colab": {
          "base_uri": "https://localhost:8080/"
        },
        "id": "S-4c9U2jUTxJ",
        "outputId": "53aa449b-94c9-4175-cd34-382f454ff863"
      },
      "execution_count": null,
      "outputs": [
        {
          "output_type": "stream",
          "name": "stdout",
          "text": [
            "Accuracy of mitigated logistic regression model:  0.5919282511210763\n",
            "Accuracy of mitigated SVM model:  0.600896860986547\n"
          ]
        }
      ]
    },
    {
      "cell_type": "markdown",
      "source": [
        "#Conclusion"
      ],
      "metadata": {
        "id": "uiSS2-xziCCY"
      }
    },
    {
      "cell_type": "markdown",
      "source": [
        " The mitigated SVM model has a slightly higher accuracy than the mitigated logistic regression model. However, as the Professor said a higher accuracy doesn’t always mean a better model. It’s essential to consider the balance between accuracy and fairness."
      ],
      "metadata": {
        "id": "M3BM3I2mfXjz"
      }
    },
    {
      "cell_type": "markdown",
      "source": [
        "#Reference\n",
        "M YASSER H (2021),Titanic Dataset.Available at : https://www.kaggle.com/datasets/yasserh/titanic-dataset (Accessed 09/12/2023)"
      ],
      "metadata": {
        "id": "ZTTfuna_ql6l"
      }
    },
    {
      "cell_type": "code",
      "source": [
        "!jupyter nbconvert --to html /content/my_ethics_pro.ipynb"
      ],
      "metadata": {
        "colab": {
          "base_uri": "https://localhost:8080/"
        },
        "id": "AnRMVTE4mbxL",
        "outputId": "144e1667-12e7-4fbf-ae26-c253b8acc2fe"
      },
      "execution_count": null,
      "outputs": [
        {
          "output_type": "stream",
          "name": "stdout",
          "text": [
            "[NbConvertApp] Converting notebook /content/my_ethics_pro.ipynb to html\n",
            "[NbConvertApp] Writing 827953 bytes to /content/my_ethics_pro.html\n"
          ]
        }
      ]
    },
    {
      "cell_type": "code",
      "source": [
        "!pip install pdfkit\n"
      ],
      "metadata": {
        "colab": {
          "base_uri": "https://localhost:8080/"
        },
        "id": "AgdMQ8VLvRg7",
        "outputId": "b19a7403-c089-4d60-9744-1f8345672228"
      },
      "execution_count": null,
      "outputs": [
        {
          "output_type": "stream",
          "name": "stdout",
          "text": [
            "Collecting pdfkit\n",
            "  Downloading pdfkit-1.0.0-py3-none-any.whl (12 kB)\n",
            "Installing collected packages: pdfkit\n",
            "Successfully installed pdfkit-1.0.0\n"
          ]
        }
      ]
    }
  ],
  "metadata": {
    "colab": {
      "provenance": []
    },
    "kernelspec": {
      "display_name": "Python 3",
      "name": "python3"
    },
    "language_info": {
      "name": "python"
    }
  },
  "nbformat": 4,
  "nbformat_minor": 0
}